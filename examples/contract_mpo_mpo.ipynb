{
 "cells": [
  {
   "cell_type": "code",
   "execution_count": 1,
   "metadata": {},
   "outputs": [],
   "source": [
    "using Revise\n",
    "using ITensors\n",
    "using ITensorTDVP"
   ]
  },
  {
   "cell_type": "code",
   "execution_count": 2,
   "metadata": {},
   "outputs": [],
   "source": [
    "import ITensors: leftlim, rightlim, setleftlim!, setrightlim!\n",
    "\n",
    "function ITensors.replacebond!(M::MPO, b::Int, phi::ITensor; kwargs...)\n",
    "    ortho::String = get(kwargs, :ortho, \"left\")\n",
    "    swapsites::Bool = get(kwargs, :swapsites, false)\n",
    "    which_decomp::Union{String,Nothing} = get(kwargs, :which_decomp, nothing)\n",
    "    normalize::Bool = get(kwargs, :normalize, false)\n",
    "  \n",
    "    indsMb = inds(M[b])\n",
    "    if swapsites\n",
    "      error(\"Not implemented\")\n",
    "    end \n",
    "  \n",
    "    L, R, spec = factorize(\n",
    "      phi, indsMb; which_decomp=which_decomp, tags=tags(linkind(M, b)), kwargs...\n",
    "    )\n",
    "  \n",
    "    M[b] = L \n",
    "    M[b + 1] = R \n",
    "    if ortho == \"left\"\n",
    "      leftlim(M) == b - 1 && setleftlim!(M, leftlim(M) + 1)\n",
    "      rightlim(M) == b + 1 && setrightlim!(M, rightlim(M) + 1)\n",
    "      normalize && (M[b + 1] ./= norm(M[b + 1]))\n",
    "    elseif ortho == \"right\"\n",
    "      leftlim(M) == b && setleftlim!(M, leftlim(M) - 1)\n",
    "      rightlim(M) == b + 2 && setrightlim!(M, rightlim(M) - 1)\n",
    "      normalize && (M[b] ./= norm(M[b]))\n",
    "    else\n",
    "      error(\n",
    "        \"In replacebond!, got ortho = $ortho, only currently supports `left` and `right`.\"\n",
    "      )   \n",
    "    end\n",
    "    return spec\n",
    "  end"
   ]
  },
  {
   "cell_type": "code",
   "execution_count": 3,
   "metadata": {},
   "outputs": [],
   "source": [
    "#==\n",
    "import ITensors: AbstractProjMPO, OneITensor, site_range\n",
    "\n",
    "function ITensors.contract(P::AbstractProjMPO, v::ITensor)::ITensor\n",
    "    itensor_map = Union{ITensor,OneITensor}[lproj(P)]\n",
    "    append!(itensor_map, P.H[site_range(P)])\n",
    "    push!(itensor_map, rproj(P))\n",
    "\n",
    "    #for i in eachindex(itensor_map)\n",
    "      #println(\"itensor_map \", i, \"  \", inds(itensor_map[i]))\n",
    "    #end\n",
    "  \n",
    "    # Reverse the contraction order of the map if\n",
    "    # the first tensor is a scalar (for example we\n",
    "    # are at the left edge of the system)\n",
    "    if dim(first(itensor_map)) == 1\n",
    "      reverse!(itensor_map)\n",
    "    end \n",
    "  \n",
    "    # Apply the map \n",
    "    Hv = v \n",
    "    for it in itensor_map\n",
    "      Hv *= it\n",
    "    end \n",
    "    return Hv\n",
    "  end\n",
    "  ==#"
   ]
  },
  {
   "cell_type": "code",
   "execution_count": 4,
   "metadata": {},
   "outputs": [
    {
     "name": "stdout",
     "output_type": "stream",
     "text": [
      "inds(init_mps[n]) = ((dim=2|id=922|\"Qubit,Site,n=1\")'', (dim=2|id=922|\"Qubit,Site,n=1\"), (dim=1|id=800|\"Link,l=1\"))\n",
      "inds(init_mps[n]) = ((dim=2|id=956|\"Qubit,Site,n=2\")'', (dim=2|id=956|\"Qubit,Site,n=2\"), (dim=1|id=473|\"Link,l=2\"), (dim=1|id=800|\"Link,l=1\"))\n",
      "inds(init_mps[n]) = ((dim=2|id=605|\"Qubit,Site,n=3\")'', (dim=2|id=605|\"Qubit,Site,n=3\"), (dim=1|id=409|\"Link,l=3\"), (dim=1|id=473|\"Link,l=2\"))\n",
      "inds(init_mps[n]) = ((dim=2|id=383|\"Qubit,Site,n=4\")'', (dim=2|id=383|\"Qubit,Site,n=4\"), (dim=1|id=872|\"Link,l=4\"), (dim=1|id=409|\"Link,l=3\"))\n",
      "inds(init_mps[n]) = ((dim=2|id=428|\"Qubit,Site,n=5\")'', (dim=2|id=428|\"Qubit,Site,n=5\"), (dim=1|id=872|\"Link,l=4\"))\n"
     ]
    },
    {
     "data": {
      "text/plain": [
       "MPS\n",
       "[1] ((dim=2|id=922|\"Qubit,Site,n=1\"), (dim=2|id=922|\"Qubit,Site,n=1\")'', (dim=1|id=802|\"Link,l=1\"))\n",
       "[2] ((dim=2|id=956|\"Qubit,Site,n=2\"), (dim=1|id=161|\"Link,l=2\"), (dim=2|id=956|\"Qubit,Site,n=2\")'', (dim=1|id=802|\"Link,l=1\"))\n",
       "[3] ((dim=2|id=605|\"Qubit,Site,n=3\"), (dim=1|id=782|\"Link,l=3\"), (dim=2|id=605|\"Qubit,Site,n=3\")'', (dim=1|id=161|\"Link,l=2\"))\n",
       "[4] ((dim=2|id=383|\"Qubit,Site,n=4\"), (dim=1|id=493|\"Link,l=4\"), (dim=2|id=383|\"Qubit,Site,n=4\")'', (dim=1|id=782|\"Link,l=3\"))\n",
       "[5] ((dim=2|id=428|\"Qubit,Site,n=5\"), (dim=2|id=428|\"Qubit,Site,n=5\")'', (dim=1|id=493|\"Link,l=4\"))\n"
      ]
     },
     "metadata": {},
     "output_type": "display_data"
    }
   ],
   "source": [
    "nbit = 5\n",
    "sites = siteinds(\"Qubit\", nbit)\n",
    "\n",
    "M1 = randomMPO(sites)\n",
    "M2 = randomMPO(sites)\n",
    "\n",
    "# Fix siteinds manually :)\n",
    "M1 = replaceprime(M1, 1=>2, 0=>1)\n",
    "#@show M1\n",
    "#@show M2\n",
    "\n",
    "M12 = contract(M1, M2; alg=\"fit\")"
   ]
  },
  {
   "cell_type": "code",
   "execution_count": 5,
   "metadata": {},
   "outputs": [
    {
     "data": {
      "text/plain": [
       "MPS\n",
       "[1] ((dim=2|id=922|\"Qubit,Site,n=1\")'', (dim=2|id=922|\"Qubit,Site,n=1\"), (dim=1|id=121|\"CMB,Link\"))\n",
       "[2] ((dim=2|id=956|\"Qubit,Site,n=2\")'', (dim=2|id=956|\"Qubit,Site,n=2\"), (dim=1|id=467|\"CMB,Link\"), (dim=1|id=121|\"CMB,Link\"))\n",
       "[3] ((dim=2|id=605|\"Qubit,Site,n=3\")'', (dim=2|id=605|\"Qubit,Site,n=3\"), (dim=1|id=353|\"CMB,Link\"), (dim=1|id=467|\"CMB,Link\"))\n",
       "[4] ((dim=2|id=383|\"Qubit,Site,n=4\")'', (dim=2|id=383|\"Qubit,Site,n=4\"), (dim=1|id=758|\"CMB,Link\"), (dim=1|id=353|\"CMB,Link\"))\n",
       "[5] ((dim=2|id=428|\"Qubit,Site,n=5\")'', (dim=2|id=428|\"Qubit,Site,n=5\"), (dim=1|id=758|\"CMB,Link\"))\n"
      ]
     },
     "metadata": {},
     "output_type": "display_data"
    }
   ],
   "source": [
    "M12_ref = contract(M1, M2; alg=\"naive\")"
   ]
  },
  {
   "cell_type": "code",
   "execution_count": 6,
   "metadata": {},
   "outputs": [
    {
     "data": {
      "text/plain": [
       "true"
      ]
     },
     "metadata": {},
     "output_type": "display_data"
    }
   ],
   "source": [
    "M12_ref ≈ M12"
   ]
  },
  {
   "cell_type": "code",
   "execution_count": 7,
   "metadata": {},
   "outputs": [],
   "source": []
  }
 ],
 "metadata": {
  "kernelspec": {
   "display_name": "Julia 1.8.1",
   "language": "julia",
   "name": "julia-1.8"
  },
  "language_info": {
   "file_extension": ".jl",
   "mimetype": "application/julia",
   "name": "julia",
   "version": "1.8.1"
  },
  "orig_nbformat": 4
 },
 "nbformat": 4,
 "nbformat_minor": 2
}
